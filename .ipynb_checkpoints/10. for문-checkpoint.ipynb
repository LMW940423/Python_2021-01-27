{
 "cells": [
  {
   "cell_type": "markdown",
   "metadata": {},
   "source": [
    "# range()\n",
    "range(시작숫자, 끝숫자, 증가값)"
   ]
  },
  {
   "cell_type": "code",
   "execution_count": 3,
   "metadata": {},
   "outputs": [
    {
     "data": {
      "text/plain": [
       "[1, 2, 3, 4, 5, 6, 7, 8, 9, 10]"
      ]
     },
     "execution_count": 3,
     "metadata": {},
     "output_type": "execute_result"
    }
   ],
   "source": [
    "list(range(1, 11))"
   ]
  },
  {
   "cell_type": "code",
   "execution_count": 4,
   "metadata": {},
   "outputs": [
    {
     "data": {
      "text/plain": [
       "[0, 2, 4, 6, 8, 10]"
      ]
     },
     "execution_count": 4,
     "metadata": {},
     "output_type": "execute_result"
    }
   ],
   "source": [
    "list(range(0, 11, 2)) # 짝수만 구한 경우"
   ]
  },
  {
   "cell_type": "code",
   "execution_count": 6,
   "metadata": {},
   "outputs": [
    {
     "data": {
      "text/plain": [
       "[10, 8, 6, 4, 2]"
      ]
     },
     "execution_count": 6,
     "metadata": {},
     "output_type": "execute_result"
    }
   ],
   "source": [
    "list(range(10, 0, -2))"
   ]
  },
  {
   "cell_type": "code",
   "execution_count": 7,
   "metadata": {},
   "outputs": [
    {
     "data": {
      "text/plain": [
       "[]"
      ]
     },
     "execution_count": 7,
     "metadata": {},
     "output_type": "execute_result"
    }
   ],
   "source": [
    "list(range(0, 10, -2))"
   ]
  },
  {
   "cell_type": "markdown",
   "metadata": {},
   "source": [
    "---\n",
    "# for문"
   ]
  },
  {
   "cell_type": "code",
   "execution_count": 8,
   "metadata": {
    "collapsed": true
   },
   "outputs": [
    {
     "name": "stdout",
     "output_type": "stream",
     "text": [
      "1\n",
      "2\n",
      "3\n",
      "4\n",
      "5\n",
      "6\n",
      "7\n",
      "8\n",
      "9\n",
      "10\n"
     ]
    }
   ],
   "source": [
    "for i in range(1, 11):\n",
    "    print(i)"
   ]
  },
  {
   "cell_type": "code",
   "execution_count": 9,
   "metadata": {},
   "outputs": [
    {
     "name": "stdout",
     "output_type": "stream",
     "text": [
      "0\n",
      "1\n",
      "2\n",
      "3\n",
      "4\n"
     ]
    }
   ],
   "source": [
    "for i in range(5):\n",
    "    print(i)"
   ]
  },
  {
   "cell_type": "code",
   "execution_count": 25,
   "metadata": {},
   "outputs": [
    {
     "name": "stdout",
     "output_type": "stream",
     "text": [
      " 0 : 0.00000000\n",
      " 1 : 1.00000000\n",
      " 2 : 1.41421356\n",
      " 3 : 1.73205081\n",
      " 4 : 2.00000000\n",
      " 5 : 2.23606798\n",
      " 6 : 2.44948974\n",
      " 7 : 2.64575131\n",
      " 8 : 2.82842712\n",
      " 9 : 3.00000000\n",
      "10 : 3.16227766\n"
     ]
    }
   ],
   "source": [
    "# 1에서 10까지의 제곱근을 출력하기\n",
    "import math\n",
    "\n",
    "for i in range(11):\n",
    "    print(\"%2d : %.8f\" %(i, math.sqrt(i)))"
   ]
  },
  {
   "cell_type": "code",
   "execution_count": 26,
   "metadata": {},
   "outputs": [
    {
     "name": "stdout",
     "output_type": "stream",
     "text": [
      "0 1 2 3 4 "
     ]
    }
   ],
   "source": [
    "for i in range(5):\n",
    "    print(i, end = \" \") # 가로로 나열"
   ]
  },
  {
   "cell_type": "code",
   "execution_count": 38,
   "metadata": {
    "scrolled": true
   },
   "outputs": [
    {
     "name": "stdout",
     "output_type": "stream",
     "text": [
      "2 4 6 8 10 12 14 16 18  \n",
      "3 6 9 12 15 18 21 24 27  \n",
      "4 8 12 16 20 24 28 32 36  \n",
      "5 10 15 20 25 30 35 40 45  \n",
      "6 12 18 24 30 36 42 48 54  \n",
      "7 14 21 28 35 42 49 56 63  \n",
      "8 16 24 32 40 48 56 64 72  \n",
      "9 18 27 36 45 54 63 72 81  \n"
     ]
    }
   ],
   "source": [
    "# 구구단 결과만 출력하기\n",
    "for i in range(2, 10):\n",
    "    for j in range(1, 10):\n",
    "        print(i * j, end = \" \")\n",
    "        if(j == 9):\n",
    "            print(\" \")\n",
    "        "
   ]
  },
  {
   "cell_type": "markdown",
   "metadata": {},
   "source": [
    "### for문에 list 사용하기"
   ]
  },
  {
   "cell_type": "code",
   "execution_count": 43,
   "metadata": {},
   "outputs": [
    {
     "name": "stdout",
     "output_type": "stream",
     "text": [
      "one\n",
      "two\n",
      "three\n"
     ]
    }
   ],
   "source": [
    "test_List = ['one', 'two', 'three']\n",
    "\n",
    "for i in test_List:\n",
    "    print(i)"
   ]
  },
  {
   "cell_type": "markdown",
   "metadata": {},
   "source": [
    "---\n",
    "### for문에 Tuple 사용하기\n"
   ]
  },
  {
   "cell_type": "code",
   "execution_count": 46,
   "metadata": {},
   "outputs": [
    {
     "name": "stdout",
     "output_type": "stream",
     "text": [
      "1 : 2\n",
      "3 : 4\n",
      "5 : 6\n",
      "3\n",
      "7\n",
      "11\n",
      "21\n"
     ]
    }
   ],
   "source": [
    "# 리스트에 튜플을 함께 사용한 경우\n",
    "var = [(1, 2), (3, 4), (5, 6)]\n",
    "\n",
    "for first, last in var:\n",
    "    print(first, \":\", last)\n",
    "    \n",
    "for first, last in var:\n",
    "    print(first + last)\n",
    "\n",
    "sum = 0\n",
    "for first, last in var:\n",
    "    sum = sum + first + last\n",
    "\n",
    "print(sum)"
   ]
  },
  {
   "cell_type": "markdown",
   "metadata": {},
   "source": [
    "---\n",
    "총 5명의 학생이 시험을 보았는데 시험점수가 60점을 넘으면 합격, 아니면 불합격이다.\n",
    "합격, 불합격 결과 보여주기"
   ]
  },
  {
   "cell_type": "code",
   "execution_count": 80,
   "metadata": {},
   "outputs": [
    {
     "name": "stdout",
     "output_type": "stream",
     "text": [
      "1 의 학생은 점수가 90 이므로 합격입니다.\n",
      "2 의 학생은 점수가 25 이므로 불합격입니다.\n",
      "3 의 학생은 점수가 67 이므로 합격입니다.\n",
      "4 의 학생은 점수가 48 이므로 불합격입니다.\n",
      "5 의 학생은 점수가 77 이므로 합격입니다.\n",
      "6 의 학생은 점수가 88 이므로 합격입니다.\n",
      "-------------\n",
      "1 의 학생은 점수가 90 이므로 합격입니다.\n",
      "2 의 학생은 점수가 25 이므로 불합격입니다.\n",
      "3 의 학생은 점수가 67 이므로 합격입니다.\n",
      "4 의 학생은 점수가 48 이므로 불합격입니다.\n",
      "5 의 학생은 점수가 77 이므로 합격입니다.\n",
      "6 의 학생은 점수가 88 이므로 합격입니다.\n"
     ]
    }
   ],
   "source": [
    "# 학생번호와 점수를 같이 보여주면서 합격여부 출력하기\n",
    "scores = [90, 25, 67, 48, 77, 88]\n",
    "\n",
    "for number in range(len(scores)):\n",
    "    if(scores[number] >= 60):\n",
    "        print((int(number) + 1), \"의 학생은 점수가\", scores[number], \"이므로 합격입니다.\")\n",
    "    else:\n",
    "        print((int(number) + 1), \"의 학생은 점수가\", scores[number], \"이므로 불합격입니다.\")\n",
    "   \n",
    "print(\"-------------\")\n",
    "        \n",
    "for score in scores:\n",
    "    if(score >= 60):\n",
    "        print((int(scores.index(score)) + 1), \"의 학생은 점수가\", score, \"이므로 합격입니다.\")\n",
    "    else:\n",
    "        print((int(scores.index(score)) + 1), \"의 학생은 점수가\", score, \"이므로 불합격입니다.\")\n"
   ]
  },
  {
   "cell_type": "code",
   "execution_count": null,
   "metadata": {},
   "outputs": [],
   "source": []
  }
 ],
 "metadata": {
  "kernelspec": {
   "display_name": "Python 3",
   "language": "python",
   "name": "python3"
  },
  "language_info": {
   "codemirror_mode": {
    "name": "ipython",
    "version": 3
   },
   "file_extension": ".py",
   "mimetype": "text/x-python",
   "name": "python",
   "nbconvert_exporter": "python",
   "pygments_lexer": "ipython3",
   "version": "3.8.5"
  }
 },
 "nbformat": 4,
 "nbformat_minor": 4
}
