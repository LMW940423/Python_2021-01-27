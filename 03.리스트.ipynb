{
 "cells": [
  {
   "cell_type": "markdown",
   "metadata": {},
   "source": [
    "---\n",
    "# 리스트(list) 자료형\n",
    "- 숫자나 문자들의 모음을 하나의 자료형으로 표현하기 위해 사용\n",
    "- 표현방법 : 리스트명 = [요소1, 요소2, ...]"
   ]
  },
  {
   "cell_type": "code",
   "execution_count": 7,
   "metadata": {},
   "outputs": [
    {
     "name": "stdout",
     "output_type": "stream",
     "text": [
      "[1, 2, ['Dream', True]]\n"
     ]
    },
    {
     "data": {
      "text/plain": [
       "'Dream'"
      ]
     },
     "execution_count": 7,
     "metadata": {},
     "output_type": "execute_result"
    }
   ],
   "source": [
    "## 리스트 자료형 선언\n",
    "var01 = [] # 비어있는 선언\n",
    "var01 = [1, 2, 3] # 값이 있는 선언\n",
    "var01 = ['I', \"have\", 'a', 'dream']\n",
    "var01 = [1, 2, 'Dream', True] # 자료형 혼합도 가능\n",
    "var01 = [1, 2, ['Dream', True]] # 리스트안에 리스트도 가능\n",
    "print(var01)\n",
    "\n",
    "# 리스트 안의 리스트 뽑아오는 법\n",
    "var01[2][0] # 2번 index에 있는 리스트의 0번 index의 값을 가져온다"
   ]
  },
  {
   "cell_type": "markdown",
   "metadata": {},
   "source": [
    "---\n",
    "# 리스트의 연산자\n"
   ]
  },
  {
   "cell_type": "code",
   "execution_count": 8,
   "metadata": {},
   "outputs": [
    {
     "data": {
      "text/plain": [
       "[1, 2, 3, 4, 5, 6]"
      ]
     },
     "execution_count": 8,
     "metadata": {},
     "output_type": "execute_result"
    }
   ],
   "source": [
    "# 리스트의 숫자 합치기\n",
    "var01 = [1, 2, 3]\n",
    "var02 = [4, 5, 6]\n",
    "var01 + var02"
   ]
  },
  {
   "cell_type": "code",
   "execution_count": 54,
   "metadata": {},
   "outputs": [
    {
     "data": {
      "text/plain": [
       "[5, 7, 9]"
      ]
     },
     "execution_count": 54,
     "metadata": {},
     "output_type": "execute_result"
    }
   ],
   "source": [
    "# 리스트의 덧셈\n",
    "var03 = []\n",
    "\n",
    "for i in range(0, len(var02)):\n",
    "    var03.append(var01[i] + var02[i])\n",
    "\n",
    "var03"
   ]
  },
  {
   "cell_type": "code",
   "execution_count": 35,
   "metadata": {},
   "outputs": [
    {
     "data": {
      "text/plain": [
       "[1, 2, 3, 1, 2, 3, 1, 2, 3]"
      ]
     },
     "execution_count": 35,
     "metadata": {},
     "output_type": "execute_result"
    }
   ],
   "source": [
    "var01 * 3"
   ]
  },
  {
   "cell_type": "code",
   "execution_count": 38,
   "metadata": {},
   "outputs": [
    {
     "data": {
      "text/plain": [
       "123"
      ]
     },
     "execution_count": 38,
     "metadata": {},
     "output_type": "execute_result"
    }
   ],
   "source": [
    "# var01[2] + 'hi'\n",
    "# 숫자를 문자열로 변경\n",
    "print(str(var01[2]) + 'hi')\n",
    "\n",
    "# 문자열을 숫자로 변경\n",
    "print(int('123'))\n"
   ]
  },
  {
   "cell_type": "markdown",
   "metadata": {},
   "source": [
    "---\n",
    "# 리스트의 수정과 삭제"
   ]
  },
  {
   "cell_type": "code",
   "execution_count": 40,
   "metadata": {},
   "outputs": [
    {
     "data": {
      "text/plain": [
       "[1, 2, 4]"
      ]
     },
     "execution_count": 40,
     "metadata": {},
     "output_type": "execute_result"
    }
   ],
   "source": [
    "var01\n",
    "var01[2] = 4 # 수정\n",
    "var01"
   ]
  },
  {
   "cell_type": "code",
   "execution_count": 55,
   "metadata": {},
   "outputs": [
    {
     "data": {
      "text/plain": [
       "[1, 'a', 'b', 'c', 3, 4]"
      ]
     },
     "execution_count": 55,
     "metadata": {},
     "output_type": "execute_result"
    }
   ],
   "source": [
    "var01[1:2] = ['a', 'b', 'c']\n",
    "var01"
   ]
  },
  {
   "cell_type": "code",
   "execution_count": 56,
   "metadata": {},
   "outputs": [
    {
     "data": {
      "text/plain": [
       "[1, 'c', 3, 4]"
      ]
     },
     "execution_count": 56,
     "metadata": {},
     "output_type": "execute_result"
    }
   ],
   "source": [
    "var01[1:3] = []\n",
    "var01"
   ]
  },
  {
   "cell_type": "code",
   "execution_count": 57,
   "metadata": {},
   "outputs": [
    {
     "data": {
      "text/plain": [
       "[1, 3, 4]"
      ]
     },
     "execution_count": 57,
     "metadata": {},
     "output_type": "execute_result"
    }
   ],
   "source": [
    "del var01[1]\n",
    "var01"
   ]
  },
  {
   "cell_type": "markdown",
   "metadata": {},
   "source": [
    "---\n",
    "# 리스트 관련 함수"
   ]
  },
  {
   "cell_type": "code",
   "execution_count": 58,
   "metadata": {},
   "outputs": [
    {
     "data": {
      "text/plain": [
       "[1, 2, 3, 4]"
      ]
     },
     "execution_count": 58,
     "metadata": {},
     "output_type": "execute_result"
    }
   ],
   "source": [
    "# 리스트에 요소 추가\n",
    "var01 = [1,2,3]\n",
    "var01.append(4) # 추가\n",
    "var01"
   ]
  },
  {
   "cell_type": "code",
   "execution_count": 59,
   "metadata": {},
   "outputs": [
    {
     "data": {
      "text/plain": [
       "[1, 2, 3, 4, [5, 6]]"
      ]
     },
     "execution_count": 59,
     "metadata": {},
     "output_type": "execute_result"
    }
   ],
   "source": [
    "var01.append([5, 6]) # 리스트 추가\n",
    "var01"
   ]
  },
  {
   "cell_type": "code",
   "execution_count": 68,
   "metadata": {},
   "outputs": [
    {
     "name": "stdout",
     "output_type": "stream",
     "text": [
      "[1, 4, 3, 2]\n",
      "[1, 2, 3, 4]\n",
      "[4, 3, 2, 1]\n"
     ]
    }
   ],
   "source": [
    "# 리스트의 정렬 : 숫자\n",
    "var01 = [1, 4, 3, 2]\n",
    "print(var01)\n",
    "\n",
    "# 오름차순 정렬\n",
    "var01.sort()\n",
    "print(var01)\n",
    "\n",
    "# 내림차순 정렬\n",
    "var01.reverse()\n",
    "print(var01)\n"
   ]
  },
  {
   "cell_type": "code",
   "execution_count": 70,
   "metadata": {},
   "outputs": [
    {
     "name": "stdout",
     "output_type": "stream",
     "text": [
      "['c', 'd', 'a', 'b']\n",
      "['a', 'b', 'c', 'd']\n",
      "['d', 'c', 'b', 'a']\n"
     ]
    }
   ],
   "source": [
    "# 리스트의 정렬 : 영문 \n",
    "var01 = ['c', 'd', 'a', 'b']\n",
    "print(var01)\n",
    "\n",
    "# 오름차순 정렬\n",
    "var01.sort()\n",
    "print(var01)\n",
    "\n",
    "# 내림차순 정렬\n",
    "var01.reverse()\n",
    "print(var01)"
   ]
  },
  {
   "cell_type": "code",
   "execution_count": 73,
   "metadata": {},
   "outputs": [
    {
     "name": "stdout",
     "output_type": "stream",
     "text": [
      "['대', 'ㄹ', '한', 'ㄱ']\n",
      "['ㄱ', 'ㄹ', '대', '한']\n",
      "['한', '대', 'ㄹ', 'ㄱ']\n"
     ]
    }
   ],
   "source": [
    "# 리스트의 정렬 : 한글 \n",
    "var01 = ['대', 'ㄹ', '한', 'ㄱ']\n",
    "print(var01)\n",
    "\n",
    "# 오름차순 정렬\n",
    "var01.sort()\n",
    "print(var01)\n",
    "\n",
    "# 내림차순 정렬\n",
    "var01.reverse()\n",
    "print(var01)"
   ]
  },
  {
   "cell_type": "code",
   "execution_count": 74,
   "metadata": {},
   "outputs": [
    {
     "data": {
      "text/plain": [
       "1"
      ]
     },
     "execution_count": 74,
     "metadata": {},
     "output_type": "execute_result"
    }
   ],
   "source": [
    "# 리스트의 위치정보\n",
    "\n",
    "var01 = [4, 5, 6]\n",
    "var01.index(5) # 요소가 5인 것의 위치"
   ]
  },
  {
   "cell_type": "code",
   "execution_count": 75,
   "metadata": {},
   "outputs": [
    {
     "data": {
      "text/plain": [
       "[1, 4, 5, 6]"
      ]
     },
     "execution_count": 75,
     "metadata": {},
     "output_type": "execute_result"
    }
   ],
   "source": [
    "# 리스트에 요소 삽입\n",
    "var01.insert(0, 1) # index를 정하고 요소를 삽입하는 것\n",
    "var01"
   ]
  },
  {
   "cell_type": "code",
   "execution_count": 76,
   "metadata": {},
   "outputs": [
    {
     "data": {
      "text/plain": [
       "[1, 5, 6]"
      ]
     },
     "execution_count": 76,
     "metadata": {},
     "output_type": "execute_result"
    }
   ],
   "source": [
    "# 리스트에 요소 제거 \n",
    "var01.remove(4) # 요소가 4인 것 제거\n",
    "var01"
   ]
  },
  {
   "cell_type": "code",
   "execution_count": 77,
   "metadata": {},
   "outputs": [
    {
     "name": "stdout",
     "output_type": "stream",
     "text": [
      "3\n",
      "[1, 2]\n"
     ]
    }
   ],
   "source": [
    "# 리스트 요소 끄집어 내기\n",
    "var01 = [1, 2, 3]\n",
    "print(var01.pop()) # 리스트의 마지막 요소를 선택 후 보여주고 해당 데이터는 삭제\n",
    "print(var01)"
   ]
  },
  {
   "cell_type": "code",
   "execution_count": 78,
   "metadata": {},
   "outputs": [
    {
     "name": "stdout",
     "output_type": "stream",
     "text": [
      "3\n",
      "2\n",
      "1\n",
      "[]\n"
     ]
    }
   ],
   "source": [
    "# for문을 사용한 pop\n",
    "var01 = [1, 2, 3]\n",
    "for i in range(0, 3):\n",
    "    print(var01.pop())\n",
    "    \n",
    "print(var01)"
   ]
  },
  {
   "cell_type": "code",
   "execution_count": 83,
   "metadata": {},
   "outputs": [
    {
     "name": "stdout",
     "output_type": "stream",
     "text": [
      "2\n",
      "5\n"
     ]
    }
   ],
   "source": [
    "# 리스트의 요소 개수 세기\n",
    "var01 = [1, 2, 3, 4, 4]\n",
    "print(var01.count(4))\n",
    "print(len(var01))"
   ]
  },
  {
   "cell_type": "code",
   "execution_count": 85,
   "metadata": {},
   "outputs": [
    {
     "data": {
      "text/plain": [
       "[1, 2, 3, 4, 5, 6]"
      ]
     },
     "execution_count": 85,
     "metadata": {},
     "output_type": "execute_result"
    }
   ],
   "source": [
    "# 리스트의 확장\n",
    "var01 = [1, 2, 3, 4] # append는 한꺼번에 추가되고 extend는 개별적으로 붙는다\n",
    "var01.extend([5, 6])\n",
    "var01"
   ]
  },
  {
   "cell_type": "code",
   "execution_count": null,
   "metadata": {},
   "outputs": [],
   "source": []
  }
 ],
 "metadata": {
  "kernelspec": {
   "display_name": "Python 3",
   "language": "python",
   "name": "python3"
  },
  "language_info": {
   "codemirror_mode": {
    "name": "ipython",
    "version": 3
   },
   "file_extension": ".py",
   "mimetype": "text/x-python",
   "name": "python",
   "nbconvert_exporter": "python",
   "pygments_lexer": "ipython3",
   "version": "3.8.5"
  }
 },
 "nbformat": 4,
 "nbformat_minor": 4
}
