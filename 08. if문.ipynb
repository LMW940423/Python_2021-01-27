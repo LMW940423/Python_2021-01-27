{
 "cells": [
  {
   "cell_type": "raw",
   "metadata": {},
   "source": [
    "if 조건:\n",
    "    문장1\n",
    "    문장2\n",
    "----------------\n",
    "if 조건:\n",
    "    문장1\n",
    "else:\n",
    "    문장2\n",
    "----------------\n",
    "if 조건:\n",
    "    문장1\n",
    "elif 조건:\n",
    "    문장2\n",
    "else:\n",
    "    문장3"
   ]
  },
  {
   "cell_type": "code",
   "execution_count": 1,
   "metadata": {},
   "outputs": [],
   "source": [
    "# 난수 불러오기\n",
    "from random import randint"
   ]
  },
  {
   "cell_type": "code",
   "execution_count": 2,
   "metadata": {},
   "outputs": [
    {
     "data": {
      "text/plain": [
       "37"
      ]
     },
     "execution_count": 2,
     "metadata": {},
     "output_type": "execute_result"
    }
   ],
   "source": [
    "randint(1, 100)"
   ]
  },
  {
   "cell_type": "code",
   "execution_count": 8,
   "metadata": {},
   "outputs": [
    {
     "name": "stdout",
     "output_type": "stream",
     "text": [
      "----- end ------\n"
     ]
    }
   ],
   "source": [
    "x = randint(1, 100)\n",
    "\n",
    "if x > 50:\n",
    "    print(\"x is greater than 50\")\n",
    "    \n",
    "print(\"----- end ------\")"
   ]
  },
  {
   "cell_type": "code",
   "execution_count": 18,
   "metadata": {},
   "outputs": [
    {
     "name": "stdout",
     "output_type": "stream",
     "text": [
      "x is greater than 50\n",
      "----- end ------\n"
     ]
    }
   ],
   "source": [
    "x = randint(1, 100)\n",
    "\n",
    "if x > 50:\n",
    "    print(\"x is greater than 50\")\n",
    "else:\n",
    "    print(\"x is less or equal to 50\")\n",
    "    \n",
    "print(\"----- end ------\")"
   ]
  },
  {
   "cell_type": "code",
   "execution_count": 20,
   "metadata": {},
   "outputs": [
    {
     "name": "stdout",
     "output_type": "stream",
     "text": [
      "숫자를 입력하세요!12\n"
     ]
    },
    {
     "data": {
      "text/plain": [
       "12"
      ]
     },
     "execution_count": 20,
     "metadata": {},
     "output_type": "execute_result"
    }
   ],
   "source": [
    "# 사용자로 부터 숫자 입력 받기\n",
    "int(input(\"숫자를 입력하세요!\"))"
   ]
  },
  {
   "cell_type": "code",
   "execution_count": 28,
   "metadata": {},
   "outputs": [
    {
     "name": "stdout",
     "output_type": "stream",
     "text": [
      "숫자를 입력하세요           4235\n",
      "4235 는(은) 홀수입니다.\n"
     ]
    }
   ],
   "source": [
    "# 사용자로 부터 숫자를 입력받아 홀수인지 짝수인지 구분하기\n",
    "number = int(input(\"숫자를 입력하세요\"))\n",
    "\n",
    "if(number % 2 == 0):\n",
    "    print(number, \"는(은) 짝수입니다.\")\n",
    "else:\n",
    "    print(number, \"는(은) 홀수입니다.\")"
   ]
  },
  {
   "cell_type": "code",
   "execution_count": 67,
   "metadata": {},
   "outputs": [
    {
     "name": "stdout",
     "output_type": "stream",
     "text": [
      "점수를 입력하세요71\n",
      "71 점은 C 학점입니다.\n"
     ]
    }
   ],
   "source": [
    "# 사용자로 부터 점수를 입력받아 학점 계산하기\n",
    "score = int(input(\"점수를 입력하세요\"))\n",
    "\n",
    "if(score >= 90):\n",
    "    print(score,\"점은 A 학점입니다.\")\n",
    "elif((score < 90) & (score >= 80)):\n",
    "    print(score,\"점은 B 학점입니다.\")\n",
    "elif((score < 80) & (score >= 70)):\n",
    "    print(score,\"점은 C 학점입니다.\")\n",
    "else:\n",
    "    print(score,\"점은 F 학점입니다.\")"
   ]
  },
  {
   "cell_type": "code",
   "execution_count": 62,
   "metadata": {},
   "outputs": [
    {
     "name": "stdout",
     "output_type": "stream",
     "text": [
      "숫자를 입력하세요 : 20\n",
      "4.47213595499958\n"
     ]
    }
   ],
   "source": [
    "# 사용자로 부터 숫자를 입력받아 5의 배수이면 제곱근을 구하고 그렇지 않으면 원래 수 출력하기\n",
    "import math\n",
    "\n",
    "number = int(input(\"숫자를 입력하세요 : \"))\n",
    "\n",
    "if(number % 5 == 0):\n",
    "    print(math.sqrt(number))\n",
    "else:\n",
    "    print(number)\n"
   ]
  },
  {
   "cell_type": "code",
   "execution_count": 69,
   "metadata": {},
   "outputs": [
    {
     "name": "stdout",
     "output_type": "stream",
     "text": [
      "신용카드로 택시 타기\n",
      "---- End ----\n"
     ]
    }
   ],
   "source": [
    "# list의 내용을 if문으로 확인하기\n",
    "\n",
    "pocket = ['paper', 'smartphone']\n",
    "card = 1\n",
    "\n",
    "if 'money' in pocket:\n",
    "    print(\"현금으로 택시 타기\")\n",
    "elif card:\n",
    "    print(\"신용카드로 택시 타기\")\n",
    "else:\n",
    "    print(\"튼튼한 다리를 사용!\")\n",
    "    \n",
    "print('---- End ----')"
   ]
  },
  {
   "cell_type": "code",
   "execution_count": null,
   "metadata": {},
   "outputs": [],
   "source": []
  }
 ],
 "metadata": {
  "kernelspec": {
   "display_name": "Python 3",
   "language": "python",
   "name": "python3"
  },
  "language_info": {
   "codemirror_mode": {
    "name": "ipython",
    "version": 3
   },
   "file_extension": ".py",
   "mimetype": "text/x-python",
   "name": "python",
   "nbconvert_exporter": "python",
   "pygments_lexer": "ipython3",
   "version": "3.8.5"
  }
 },
 "nbformat": 4,
 "nbformat_minor": 4
}
